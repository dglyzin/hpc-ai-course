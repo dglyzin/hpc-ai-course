{
 "cells": [
  {
   "cell_type": "markdown",
   "id": "390e76ae-622b-4839-b5e2-ee9b33d86e43",
   "metadata": {},
   "source": [
    "# Параметры модели"
   ]
  },
  {
   "cell_type": "code",
   "execution_count": null,
   "id": "59b5b82c-5c0b-45c2-9e17-acaf3543ba93",
   "metadata": {},
   "outputs": [],
   "source": [
    "#1\n",
    "import torch\n",
    "import torchvision\n",
    "import torchvision.transforms as transforms\n",
    "\n",
    "transform = transforms.Compose(\n",
    "    [transforms.ToTensor(),\n",
    "     transforms.Normalize((0.5, 0.5, 0.5), (0.5, 0.5, 0.5))]) # x -> (x-mean)/std, преобразует  [0,1] -> [-1,1]\n",
    "\n",
    "batch_size = 16\n",
    "\n",
    "trainset = torchvision.datasets.CIFAR10(root='./cifar10data', train=True,\n",
    "                                        download=True, transform=transform)\n",
    "trainloader = torch.utils.data.DataLoader(trainset, batch_size=batch_size,\n",
    "                                          shuffle=True, num_workers=2)\n",
    "\n",
    "testset = torchvision.datasets.CIFAR10(root='./cifar10data', train=False,\n",
    "                                       download=True, transform=transform)\n",
    "testloader = torch.utils.data.DataLoader(testset, batch_size=batch_size,\n",
    "                                         shuffle=False, num_workers=2)\n",
    "\n",
    "classes = ('plane', 'car', 'bird', 'cat',\n",
    "           'deer', 'dog', 'frog', 'horse', 'ship', 'truck')"
   ]
  },
  {
   "cell_type": "code",
   "execution_count": null,
   "id": "66921a41-4db9-4fd8-916a-6c96d5709d94",
   "metadata": {},
   "outputs": [],
   "source": [
    "#2\n",
    "import torch.nn as nn\n",
    "import torch.nn.functional as F\n",
    "import torch.optim as optim\n",
    "\n",
    "class Net(nn.Module):\n",
    "    def __init__(self, dbg=False):\n",
    "        super().__init__()\n",
    "        self.conv1 = nn.Conv2d(3, 6, 5)\n",
    "        self.pool = nn.MaxPool2d(2, 2)\n",
    "        self.conv2 = nn.Conv2d(6, 16, 5)\n",
    "        self.fc1 = nn.Linear(16 * 5 * 5, 120)\n",
    "        self.fc2 = nn.Linear(120, 84)\n",
    "        self.fc3 = nn.Linear(84, 10)\n",
    "        self.dbg = dbg\n",
    "\n",
    "    def forward(self, x):\n",
    "        if self.dbg:\n",
    "            insize = x.size()            \n",
    "        x = self.pool(F.relu(self.conv1(x)))\n",
    "        x = self.pool(F.relu(self.conv2(x)))\n",
    "        x = torch.flatten(x, 1) # flatten all dimensions except batch\n",
    "        x = F.relu(self.fc1(x))\n",
    "        x = F.relu(self.fc2(x))\n",
    "        x = self.fc3(x)        \n",
    "        if self.dbg:\n",
    "            outsize = x.size()\n",
    "            print(\"\\tIn Model: input size\", insize, \"output size\", outsize)\n",
    "        return x"
   ]
  },
  {
   "cell_type": "code",
   "execution_count": null,
   "id": "489a5440-54bd-4835-b7ec-9a4c65c8ae9f",
   "metadata": {},
   "outputs": [],
   "source": [
    "#3\n",
    "device = torch.device('cuda:2' if torch.cuda.is_available() else 'cpu')\n",
    "# Assuming that we are on a CUDA machine, this should print a CUDA device:\n",
    "print(device)"
   ]
  },
  {
   "cell_type": "code",
   "execution_count": null,
   "id": "8eb6b0bc-dfc4-4b6f-a185-97f7839a7c76",
   "metadata": {},
   "outputs": [],
   "source": [
    "#4\n",
    "netGPU = Net()\n",
    "netGPU.to(device)\n",
    "\n",
    "criterion = nn.CrossEntropyLoss()\n",
    "optimizerGPU = optim.SGD(netGPU.parameters(), lr=0.001, momentum=0.9)"
   ]
  },
  {
   "cell_type": "code",
   "execution_count": null,
   "id": "2ce90340-b0a9-448c-8fc8-510e70c641a6",
   "metadata": {
    "tags": []
   },
   "outputs": [],
   "source": [
    "#5\n",
    "for name, param in netGPU.named_parameters():\n",
    "    print(name, param.shape, param)"
   ]
  },
  {
   "cell_type": "markdown",
   "id": "77034637-ef35-4a38-836f-dab158d88ce7",
   "metadata": {},
   "source": [
    "Упражнение: найдите общее количество параметров сети netGPU"
   ]
  },
  {
   "cell_type": "code",
   "execution_count": null,
   "id": "c7d9d6d7-6a0f-42ea-b289-052c820a91c2",
   "metadata": {},
   "outputs": [],
   "source": [
    "#6 не запускайте обучение во время презентации\n",
    "import time\n",
    "start = time.time()\n",
    "\n",
    "for epoch in range(2):  # loop over the dataset multiple times\n",
    "\n",
    "    running_loss = 0.0\n",
    "    for i, data in enumerate(trainloader, 0):\n",
    "        # get the inputs; data is a list of [inputs, labels]\n",
    "        inputs, labels = data[0].to(device), data[1].to(device)\n",
    "\n",
    "        # zero the parameter gradients\n",
    "        optimizerGPU.zero_grad()\n",
    "\n",
    "        # forward + backward + optimize\n",
    "        outputs = netGPU(inputs)\n",
    "        loss = criterion(outputs, labels)\n",
    "        loss.backward()\n",
    "        optimizerGPU.step()\n",
    "\n",
    "        # print statistics\n",
    "        running_loss += loss.item()\n",
    "        if i % 1000 == 999:    # print every 2000 mini-batches\n",
    "            print(f'[{epoch + 1}, {i + 1:5d}] loss: {running_loss / 2000:.3f}')\n",
    "            running_loss = 0.0\n",
    "\n",
    "finish = time.time()\n",
    "print('Finished Training in ', finish-start)"
   ]
  },
  {
   "cell_type": "code",
   "execution_count": null,
   "id": "381db7c6-7e95-464e-a892-8ea7d9a7e055",
   "metadata": {
    "tags": []
   },
   "outputs": [],
   "source": [
    "#7\n",
    "for name, param in netGPU.named_parameters():\n",
    "    print(name, param.shape, param)"
   ]
  },
  {
   "cell_type": "markdown",
   "id": "8a91dfb3-45f3-401b-9624-eb9bada4dad8",
   "metadata": {},
   "source": [
    "# Автоматический дифференциатор в PyTorch"
   ]
  },
  {
   "cell_type": "markdown",
   "id": "fa5d8af5-7151-41ba-b752-08d0ec22246d",
   "metadata": {},
   "source": [
    "https://pytorch.org/tutorials/beginner/introyt/autogradyt_tutorial.html"
   ]
  },
  {
   "cell_type": "code",
   "execution_count": null,
   "id": "15e5d5bd-2533-4504-9ed3-3138aa6dac81",
   "metadata": {},
   "outputs": [],
   "source": [
    "#8\n",
    "import matplotlib.pyplot as plt\n",
    "import matplotlib.ticker as ticker\n",
    "import math\n",
    "x = torch.ones(25)\n",
    "print(x)\n",
    "w = torch.linspace(0., 2. * math.pi, steps=25, requires_grad=True)\n",
    "print(w)"
   ]
  },
  {
   "cell_type": "code",
   "execution_count": null,
   "id": "e972b016-fd98-4148-baa7-5cc952364a4b",
   "metadata": {},
   "outputs": [],
   "source": [
    "#9\n",
    "a = x*w\n",
    "print(a)\n",
    "b = torch.sin(a)\n",
    "print(b)\n",
    "#plt.plot(a, b)\n",
    "plt.plot(a.detach(), b.detach())"
   ]
  },
  {
   "cell_type": "code",
   "execution_count": null,
   "id": "d7138707-f915-4007-a59c-d42ac59cbe3e",
   "metadata": {},
   "outputs": [],
   "source": [
    "#10\n",
    "c = 2 * b\n",
    "print(c)\n",
    "\n",
    "d = c + 1\n",
    "print(d)"
   ]
  },
  {
   "cell_type": "code",
   "execution_count": null,
   "id": "02364468-cddf-4cd4-a96b-5fcd051d8f79",
   "metadata": {},
   "outputs": [],
   "source": [
    "#11\n",
    "dd = torch.sin(a) * 2 + 1\n",
    "print(dd)"
   ]
  },
  {
   "cell_type": "code",
   "execution_count": null,
   "id": "94dc0a46-0a71-4d84-ab94-23c8fe5d7399",
   "metadata": {},
   "outputs": [],
   "source": [
    "#12\n",
    "out = d.sum()\n",
    "print(out)"
   ]
  },
  {
   "cell_type": "code",
   "execution_count": null,
   "id": "9578d69f-31f0-4677-9e93-cec170eabf27",
   "metadata": {},
   "outputs": [],
   "source": [
    "#13\n",
    "print('d:')\n",
    "print(d.grad_fn)\n",
    "print(d.grad_fn.next_functions)\n",
    "print(d.grad_fn.next_functions[0][0].next_functions)\n",
    "print(d.grad_fn.next_functions[0][0].next_functions[0][0].next_functions)\n",
    "print(d.grad_fn.next_functions[0][0].next_functions[0][0].next_functions[0][0].next_functions)\n",
    "print('\\nc:')\n",
    "print(c.grad_fn)\n",
    "print('\\nb:')\n",
    "print(b.grad_fn)\n",
    "print('\\na:')\n",
    "print(a.grad_fn)"
   ]
  },
  {
   "cell_type": "code",
   "execution_count": null,
   "id": "6e8b6a5a-2ebb-4279-9740-dc0d7ec58201",
   "metadata": {},
   "outputs": [],
   "source": [
    "#14\n",
    "print(b.grad_fn)\n",
    "print(b.grad)"
   ]
  },
  {
   "cell_type": "code",
   "execution_count": null,
   "id": "86b3bfc9-b9cf-4214-975a-48ccb00c7d6f",
   "metadata": {},
   "outputs": [],
   "source": [
    "#15\n",
    "out.backward()"
   ]
  },
  {
   "cell_type": "code",
   "execution_count": null,
   "id": "fd13ef6e-e052-41ac-9836-7b2465eb282a",
   "metadata": {},
   "outputs": [],
   "source": [
    "#16\n",
    "print(w)\n",
    "print(w.grad)\n",
    "plt.plot(w.detach(), w.grad.detach())"
   ]
  },
  {
   "cell_type": "code",
   "execution_count": null,
   "id": "ab1960b4-eb42-431c-b0d2-a7eff1a3bc77",
   "metadata": {},
   "outputs": [],
   "source": [
    "#variables:    x, w              a            b            c            d              out\n",
    "#values:       x, w->            w*x      ->  sin(w*x)  -> 2*sin(w*x)-> 2*sin(w*x)+1 ->sum_i(2*sin(w_i*x_i)+1)\n",
    "#grad_fn   None, AccumulateGrad  MulBackward0 SinBackward0 MulBackward0 AddBackward0   SumBackward0\n",
    "\n",
    "# d out/ d w_i = 2 cos(w_i*x_i) * x_i\n",
    "\n",
    "#None = не хранит градиент\n",
    "#AccumulateGrad = лист дерева вычисления градиента"
   ]
  },
  {
   "cell_type": "markdown",
   "id": "440e8753-f75e-4914-a34b-072817a5b14b",
   "metadata": {},
   "source": [
    "Упражнение: вычислите при помощи torch производную функции ReLU (torch.nn.functional.relu)"
   ]
  },
  {
   "cell_type": "markdown",
   "id": "d7e151db-b0f5-4a45-8a5c-da12608f35bd",
   "metadata": {},
   "source": [
    "# Что делать с не особенно дифференцируемыми функциями"
   ]
  },
  {
   "cell_type": "code",
   "execution_count": null,
   "id": "fb81a1cb-c558-4f54-b7ea-c9fc948dcb26",
   "metadata": {},
   "outputs": [],
   "source": [
    "#17\n",
    "BATCH_SIZE = 16\n",
    "DIM_IN = 1000\n",
    "HIDDEN_SIZE = 100\n",
    "DIM_OUT = 10\n",
    "\n",
    "class TinyModel(torch.nn.Module):\n",
    "\n",
    "    def __init__(self):\n",
    "        super(TinyModel, self).__init__()\n",
    "\n",
    "        self.layer1 = torch.nn.Linear(1000, 100)\n",
    "        self.relu = torch.nn.ReLU()\n",
    "        self.layer2 = torch.nn.Linear(100, 10)\n",
    "\n",
    "    def forward(self, x):\n",
    "        x = self.layer1(x)\n",
    "        x = self.relu(x)\n",
    "        x = self.layer2(x)\n",
    "        return x\n",
    "\n",
    "some_input = torch.randn(BATCH_SIZE, DIM_IN, requires_grad=False)\n",
    "ideal_output = torch.randn(BATCH_SIZE, DIM_OUT, requires_grad=False)\n",
    "\n",
    "model = TinyModel()"
   ]
  },
  {
   "cell_type": "code",
   "execution_count": null,
   "id": "3f179253-c280-4c07-bf0a-05ec851800e4",
   "metadata": {},
   "outputs": [],
   "source": [
    "#18\n",
    "print(model.layer2.weight[0][0:10]) # just a small slice\n",
    "print(model.layer2.weight.grad)"
   ]
  },
  {
   "cell_type": "code",
   "execution_count": null,
   "id": "8c977117-53bc-4646-bf09-4ebfaac3f047",
   "metadata": {},
   "outputs": [],
   "source": [
    "#19\n",
    "optimizer = torch.optim.SGD(model.parameters(), lr=0.001)\n",
    "\n",
    "prediction = model(some_input)\n",
    "\n",
    "loss = (ideal_output - prediction).pow(2).sum()\n",
    "print(loss)"
   ]
  },
  {
   "cell_type": "code",
   "execution_count": null,
   "id": "e8d63df3-7755-428c-88e3-bd286c6e8029",
   "metadata": {},
   "outputs": [],
   "source": [
    "#20 - вычисление производных: обновлены градиенты, но не обновлены веса\n",
    "loss.backward()\n",
    "print(model.layer2.weight[0][0:10])\n",
    "print(model.layer2.weight.grad[0][0:10])"
   ]
  },
  {
   "cell_type": "code",
   "execution_count": null,
   "id": "5be3254f-cd10-4487-98f0-4a9821434502",
   "metadata": {},
   "outputs": [],
   "source": [
    "#21 - шаг метода оптимизации: обновлены веса\n",
    "optimizer.step()\n",
    "print(model.layer2.weight[0][0:10])\n",
    "print(model.layer2.weight.grad[0][0:10])"
   ]
  },
  {
   "cell_type": "code",
   "execution_count": null,
   "id": "7517adf7-b627-4b3e-b113-d784bf1c1edc",
   "metadata": {},
   "outputs": [],
   "source": [
    "#21\n",
    "print(model.layer2.weight.grad[0][0:10])\n",
    "\n",
    "for i in range(0, 5):\n",
    "    prediction = model(some_input)\n",
    "    loss = (ideal_output - prediction).pow(2).sum()\n",
    "    loss.backward()\n",
    "\n",
    "print(model.layer2.weight.grad[0][0:10])\n",
    "\n",
    "optimizer.zero_grad(set_to_none=False)\n",
    "\n",
    "print(model.layer2.weight.grad[0][0:10])"
   ]
  },
  {
   "cell_type": "code",
   "execution_count": null,
   "id": "26f421de-7707-4e8a-b4f7-31f96966a6a5",
   "metadata": {},
   "outputs": [],
   "source": [
    "#22\n",
    "print(loss.grad_fn)\n",
    "print(loss.grad_fn.next_functions)\n",
    "print(loss.grad_fn.next_functions[0][0].next_functions)\n",
    "layer2funcs =loss.grad_fn.next_functions[0][0].next_functions[0][0].next_functions\n",
    "print(layer2funcs)"
   ]
  },
  {
   "cell_type": "code",
   "execution_count": null,
   "id": "aff3a5e6-ba2b-46d3-88bc-b13d7ad89034",
   "metadata": {},
   "outputs": [],
   "source": [
    "#23\n",
    "print(layer2funcs[1][0].next_functions)"
   ]
  },
  {
   "cell_type": "code",
   "execution_count": null,
   "id": "4fc85af3-cc3c-4234-b78b-ed6549ad8cb7",
   "metadata": {},
   "outputs": [],
   "source": []
  }
 ],
 "metadata": {
  "kernelspec": {
   "display_name": "Python 3 (ipykernel)",
   "language": "python",
   "name": "python3"
  },
  "language_info": {
   "codemirror_mode": {
    "name": "ipython",
    "version": 3
   },
   "file_extension": ".py",
   "mimetype": "text/x-python",
   "name": "python",
   "nbconvert_exporter": "python",
   "pygments_lexer": "ipython3",
   "version": "3.10.5"
  }
 },
 "nbformat": 4,
 "nbformat_minor": 5
}
