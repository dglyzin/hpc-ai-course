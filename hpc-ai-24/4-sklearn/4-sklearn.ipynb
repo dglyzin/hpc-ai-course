{
 "cells": [
  {
   "cell_type": "markdown",
   "id": "e4acc6cb-4ba7-4763-9e58-4d5e3c3ecb7a",
   "metadata": {},
   "source": [
    "# Бинарный классификатор (два класса либо \"да/нет\")"
   ]
  },
  {
   "cell_type": "code",
   "execution_count": 1,
   "id": "af304062-78ff-4d1c-8e69-3ff7cf07c550",
   "metadata": {},
   "outputs": [
    {
     "name": "stdout",
     "output_type": "stream",
     "text": [
      "Files already downloaded and verified\n",
      "Files already downloaded and verified\n"
     ]
    }
   ],
   "source": [
    "#1\n",
    "#classes = ('plane', 'car', 'bird', 'cat',\n",
    "#           'deer', 'dog', 'frog', 'horse', 'ship', 'truck')\n",
    "catclass = 3\n",
    "\n",
    "import torch\n",
    "import torchvision\n",
    "import torchvision.transforms as transforms\n",
    "\n",
    "transform = transforms.Compose(\n",
    "    [transforms.ToTensor(),\n",
    "     transforms.Normalize((0.5, 0.5, 0.5), (0.5, 0.5, 0.5))]) # x -> (x-mean)/std, преобразует  [0,1] -> [-1,1]\n",
    "\n",
    "#модифицируем метки в датасете: кот=1, не кот=0\n",
    "target_transform = transforms.Lambda(lambda y: torch.tensor([1.0]) if y==catclass else torch.tensor([0.0]) ) \n",
    "\n",
    "\n",
    "batch_size = 16\n",
    "\n",
    "trainset = torchvision.datasets.CIFAR10(root='./cifar10data', train=True,\n",
    "                                        download=True, transform=transform, target_transform = target_transform)\n",
    "trainloader = torch.utils.data.DataLoader(trainset, batch_size=batch_size,\n",
    "                                          shuffle=True, num_workers=2)\n",
    "\n",
    "testset = torchvision.datasets.CIFAR10(root='./cifar10data', train=False,\n",
    "                                       download=True, transform=transform, target_transform = target_transform)\n",
    "testloader = torch.utils.data.DataLoader(testset, batch_size=batch_size,\n",
    "                                         shuffle=False, num_workers=2)"
   ]
  },
  {
   "cell_type": "code",
   "execution_count": 2,
   "id": "7199ff23-de84-4d07-b546-6b45f77cd90b",
   "metadata": {},
   "outputs": [],
   "source": [
    "#2\n",
    "import torch.nn as nn\n",
    "import torch.nn.functional as F\n",
    "import torch.optim as optim\n",
    "\n",
    "class Net(nn.Module):\n",
    "    def __init__(self):\n",
    "        super().__init__()\n",
    "        self.conv1 = nn.Conv2d(3, 6, 5)\n",
    "        self.pool = nn.MaxPool2d(2, 2)\n",
    "        self.conv2 = nn.Conv2d(6, 16, 5)\n",
    "        self.fc1 = nn.Linear(16 * 5 * 5, 120)\n",
    "        self.fc2 = nn.Linear(120, 84)\n",
    "        self.fc3 = nn.Linear(84, 1)\n",
    "        self.sigm = torch.nn.Sigmoid()\n",
    "\n",
    "    def forward(self, x):                  \n",
    "        x = self.pool(F.relu(self.conv1(x)))\n",
    "        x = self.pool(F.relu(self.conv2(x)))\n",
    "        x = torch.flatten(x, 1) # flatten all dimensions except batch\n",
    "        x = F.relu(self.fc1(x))\n",
    "        x = F.relu(self.fc2(x))\n",
    "        x = self.sigm(self.fc3(x))\n",
    "        return x"
   ]
  },
  {
   "cell_type": "code",
   "execution_count": 3,
   "id": "4ca100c2-1954-4aeb-829d-8d0b6609dee5",
   "metadata": {},
   "outputs": [
    {
     "name": "stdout",
     "output_type": "stream",
     "text": [
      "cuda:1\n"
     ]
    }
   ],
   "source": [
    "#3\n",
    "device = torch.device('cuda:1' if torch.cuda.is_available() else 'cpu')\n",
    "# Assuming that we are on a CUDA machine, this should print a CUDA device:\n",
    "print(device)\n",
    "\n",
    "netGPU = Net()\n",
    "netGPU.to(device)\n",
    "\n",
    "#criterion = nn.CrossEntropyLoss() #заменим кроссэнтропию на бинарную\n",
    "criterion = nn.BCELoss()\n",
    "optimizerGPU = optim.SGD(netGPU.parameters(), lr=0.001, momentum=0.9)\n",
    "PATH = './cifar_net2.pth'"
   ]
  },
  {
   "cell_type": "code",
   "execution_count": 4,
   "id": "207f8ef1-0192-497f-b191-59d02d151198",
   "metadata": {},
   "outputs": [
    {
     "name": "stdout",
     "output_type": "stream",
     "text": [
      "[1,  1000] loss: 0.181\n",
      "[1,  2000] loss: 0.148\n",
      "[1,  3000] loss: 0.150\n",
      "[2,  1000] loss: 0.142\n",
      "[2,  2000] loss: 0.143\n",
      "[2,  3000] loss: 0.139\n",
      "[3,  1000] loss: 0.136\n",
      "[3,  2000] loss: 0.137\n",
      "[3,  3000] loss: 0.135\n",
      "[4,  1000] loss: 0.134\n",
      "[4,  2000] loss: 0.135\n",
      "[4,  3000] loss: 0.129\n",
      "[5,  1000] loss: 0.133\n",
      "[5,  2000] loss: 0.127\n",
      "[5,  3000] loss: 0.128\n",
      "[6,  1000] loss: 0.124\n",
      "[6,  2000] loss: 0.130\n",
      "[6,  3000] loss: 0.126\n",
      "[7,  1000] loss: 0.123\n",
      "[7,  2000] loss: 0.128\n",
      "[7,  3000] loss: 0.125\n",
      "[8,  1000] loss: 0.126\n",
      "[8,  2000] loss: 0.122\n",
      "[8,  3000] loss: 0.122\n",
      "[9,  1000] loss: 0.119\n",
      "[9,  2000] loss: 0.123\n",
      "[9,  3000] loss: 0.120\n",
      "[10,  1000] loss: 0.120\n",
      "[10,  2000] loss: 0.121\n",
      "[10,  3000] loss: 0.119\n",
      "[11,  1000] loss: 0.119\n",
      "[11,  2000] loss: 0.119\n",
      "[11,  3000] loss: 0.117\n",
      "[12,  1000] loss: 0.117\n",
      "[12,  2000] loss: 0.117\n",
      "[12,  3000] loss: 0.116\n",
      "[13,  1000] loss: 0.114\n",
      "[13,  2000] loss: 0.117\n",
      "[13,  3000] loss: 0.114\n",
      "[14,  1000] loss: 0.114\n",
      "[14,  2000] loss: 0.115\n",
      "[14,  3000] loss: 0.110\n",
      "[15,  1000] loss: 0.111\n",
      "[15,  2000] loss: 0.112\n",
      "[15,  3000] loss: 0.111\n",
      "[16,  1000] loss: 0.108\n",
      "[16,  2000] loss: 0.112\n",
      "[16,  3000] loss: 0.110\n",
      "[17,  1000] loss: 0.108\n",
      "[17,  2000] loss: 0.107\n",
      "[17,  3000] loss: 0.110\n",
      "[18,  1000] loss: 0.108\n",
      "[18,  2000] loss: 0.104\n",
      "[18,  3000] loss: 0.109\n",
      "[19,  1000] loss: 0.103\n",
      "[19,  2000] loss: 0.108\n",
      "[19,  3000] loss: 0.105\n",
      "[20,  1000] loss: 0.102\n",
      "[20,  2000] loss: 0.103\n",
      "[20,  3000] loss: 0.104\n",
      "Finished Training in  406.66644859313965\n"
     ]
    }
   ],
   "source": [
    "#4 не запускайте тренировку на занятии\n",
    "import time\n",
    "start = time.time()\n",
    "\n",
    "for epoch in range(20):  # loop over the dataset multiple times\n",
    "\n",
    "    running_loss = 0.0\n",
    "    for i, data in enumerate(trainloader, 0):\n",
    "        # get the inputs; data is a list of [inputs, labels]\n",
    "        inputs, labels = data[0].to(device), data[1].to(device)\n",
    "        #print (labels)\n",
    "        # zero the parameter gradients\n",
    "        optimizerGPU.zero_grad()\n",
    "\n",
    "        # forward + backward + optimize\n",
    "        outputs = netGPU(inputs)\n",
    "        #print(outputs)\n",
    "        loss = criterion(outputs, labels)\n",
    "        loss.backward()\n",
    "        optimizerGPU.step()\n",
    "\n",
    "        # print statistics\n",
    "        running_loss += loss.item()\n",
    "        if i % 1000 == 999:    # print every 2000 mini-batches\n",
    "            print(f'[{epoch + 1}, {i + 1:5d}] loss: {running_loss / 2000:.3f}')\n",
    "            running_loss = 0.0\n",
    "\n",
    "finish = time.time()\n",
    "print('Finished Training in ', finish-start)\n",
    "torch.save(netGPU.state_dict(), PATH)"
   ]
  },
  {
   "cell_type": "code",
   "execution_count": 5,
   "id": "bc50380d-ba6f-4ca4-9fa9-e3fda1b29b47",
   "metadata": {},
   "outputs": [
    {
     "data": {
      "text/plain": [
       "<All keys matched successfully>"
      ]
     },
     "execution_count": 5,
     "metadata": {},
     "output_type": "execute_result"
    }
   ],
   "source": [
    "#5\n",
    "netGPU.load_state_dict(torch.load(PATH))"
   ]
  },
  {
   "cell_type": "code",
   "execution_count": 5,
   "id": "e9cbc1a8-9196-4439-968c-a1130ea902ae",
   "metadata": {},
   "outputs": [
    {
     "name": "stdout",
     "output_type": "stream",
     "text": [
      "[1. 0. 0. 0. 0. 0. 0. 0. 1. 0. 0. 0. 0. 0. 0. 0. 0. 0. 0. 0.]\n",
      "[3.71057093e-01 1.21266339e-06 1.62905362e-03 4.78375284e-03\n",
      " 7.49083236e-02 1.33338151e-02 9.23358575e-02 1.04048178e-02\n",
      " 3.50498796e-01 8.33247788e-04 1.22145861e-02 4.92002757e-04\n",
      " 3.92753705e-02 1.26949788e-04 1.08439685e-03 2.49247421e-02\n",
      " 1.56681687e-01 8.07938427e-02 3.41094012e-04 2.94868066e-03]\n"
     ]
    }
   ],
   "source": [
    "#6\n",
    "import numpy as np\n",
    "\n",
    "truth = np.array([])\n",
    "preds = np.array([])\n",
    "\n",
    "# again no gradients needed\n",
    "with torch.no_grad():\n",
    "    for data in testloader:\n",
    "        images = data[0].to(device)\n",
    "        \n",
    "        outputs = netGPU(images)        \n",
    "        truth = np.concatenate((truth, data[1].numpy().flatten()))\n",
    "        preds = np.concatenate((preds, outputs.to('cpu').numpy().flatten()))\n",
    "\n",
    "print(truth[:20])\n",
    "print(preds[:20]) "
   ]
  },
  {
   "cell_type": "code",
   "execution_count": 17,
   "id": "cdcb0328-6c51-4027-8a79-b2cd47c347b8",
   "metadata": {},
   "outputs": [
    {
     "name": "stdout",
     "output_type": "stream",
     "text": [
      "[1. 0. 0. 0. 0. 0. 0. 0. 1. 0. 0. 0. 0. 0. 0. 0. 0. 0. 0. 0.]\n"
     ]
    }
   ],
   "source": [
    "#7\n",
    "level = 0.3\n",
    "preds01 = map( lambda x: 1. if x>level else 0. , preds)\n",
    "preds01 = np.array(list(preds01))\n",
    "print(preds01[:20]) "
   ]
  },
  {
   "cell_type": "code",
   "execution_count": 25,
   "id": "854e645a-d099-4ae5-8db0-0c3065ca84f6",
   "metadata": {},
   "outputs": [],
   "source": [
    "#8\n",
    "def classify(level, preds, truth):\n",
    "    preds01 = map( lambda x: 1. if x>level else 0. , preds)\n",
    "    preds01 = np.array(list(preds01))\n",
    "\n",
    "    total_cat_predictions = np.sum(preds01)\n",
    "    total_nocat_predictions = len(preds01)-total_cat_predictions\n",
    "\n",
    "    true_cats = np.sum(truth)\n",
    "    true_nocats = len(truth)-true_cats\n",
    "\n",
    "    correct_cat_predictions = np.sum(preds01*truth)\n",
    "    incorrect_cat_predictions = total_cat_predictions - correct_cat_predictions\n",
    "\n",
    "    correct_nocat_predictions = np.sum( (np.ones(preds01.shape[0],dtype=int) - preds01) * (np.ones(truth.shape[0],dtype=int)-truth) )\n",
    "    incorrect_nocat_predictions = total_nocat_predictions - correct_nocat_predictions\n",
    "\n",
    "    print(f\"Всего картинок в датасете: {truth.shape[0]}\")\n",
    "    print(f\"Всего котов в датасете (P): {true_cats}, всего картинок без котов (N): {true_nocats}\")\n",
    "    print(f\"Предсказано котов (PP): {total_cat_predictions}, предсказано, что нет кота (PN): {total_nocat_predictions}\")\n",
    "    print(f\"Верные предсказания котов (TP): {correct_cat_predictions}, неверные предсказания котов (FP): {incorrect_cat_predictions}\")\n",
    "    print(f\"Верные предсказания отсутствия кота (TN): {correct_nocat_predictions}, неверные предсказания отсутствия кота (FN): {incorrect_nocat_predictions}\")\n",
    "    return preds01"
   ]
  },
  {
   "cell_type": "code",
   "execution_count": 45,
   "id": "09aba425-2d4c-421c-8de2-fd2bb2b500f5",
   "metadata": {},
   "outputs": [
    {
     "name": "stdout",
     "output_type": "stream",
     "text": [
      "Всего картинок в датасете: 10000\n",
      "Всего котов в датасете (P): 1000.0, всего картинок без котов (N): 9000.0\n",
      "Предсказано котов (PP): 1195.0, предсказано, что нет кота (PN): 8805.0\n",
      "Верные предсказания котов (TP): 508.0, неверные предсказания котов (FP): 687.0\n",
      "Верные предсказания отсутствия кота (TN): 8313.0, неверные предсказания отсутствия кота (FN): 492.0\n"
     ]
    }
   ],
   "source": [
    "#9\n",
    "preds01 = classify(0.25, preds, truth)"
   ]
  },
  {
   "cell_type": "markdown",
   "id": "cd8d7174-1af1-4c2d-9737-c7ecd9a2bea3",
   "metadata": {},
   "source": [
    "# Используем scikit-learn для визуализации"
   ]
  },
  {
   "cell_type": "code",
   "execution_count": 46,
   "id": "7274e2a0-36fb-42ef-80d1-aa9352e5cb49",
   "metadata": {},
   "outputs": [
    {
     "name": "stdout",
     "output_type": "stream",
     "text": [
      "              precision    recall  f1-score   support\n",
      "\n",
      "    нет кота       0.94      0.92      0.93      9000\n",
      "         кот       0.43      0.51      0.46      1000\n",
      "\n",
      "    accuracy                           0.88     10000\n",
      "   macro avg       0.68      0.72      0.70     10000\n",
      "weighted avg       0.89      0.88      0.89     10000\n",
      "\n"
     ]
    },
    {
     "data": {
      "image/png": "[encoded data removed]",
      "text/plain": [
       "<Figure size 432x288 with 2 Axes>"
      ]
     },
     "metadata": {
      "needs_background": "light"
     },
     "output_type": "display_data"
    }
   ],
   "source": [
    "#10\n",
    "from sklearn.metrics import ConfusionMatrixDisplay, confusion_matrix\n",
    "cm = confusion_matrix(truth, preds01)\n",
    "cm_display = ConfusionMatrixDisplay(cm, display_labels=[\"нет кота\", \"кот\"]).plot()"
   ]
  },
  {
   "cell_type": "markdown",
   "id": "38588103-3d56-4f32-8699-40b7c5812491",
   "metadata": {},
   "source": [
    "В общем случае:"
   ]
  },
  {
   "attachments": {
    "c3c69635-9bb4-4b0b-aa37-b388f35f7be5.png": {
     "image/png": "[encoded data removed]"
    }
   },
   "cell_type": "markdown",
   "id": "c1db8e53-e88f-46b5-b028-0669cd9ed86b",
   "metadata": {},
   "source": [
    "![image.png](attachment:c3c69635-9bb4-4b0b-aa37-b388f35f7be5.png)"
   ]
  },
  {
   "cell_type": "markdown",
   "id": "4244bebf-55b3-44fe-9ca8-65af2c9052bf",
   "metadata": {},
   "source": [
    "# Метрики качества предиктора с фиксированным пороговым значением"
   ]
  },
  {
   "cell_type": "markdown",
   "id": "c6342c55-a109-4259-be49-8bad22449def",
   "metadata": {},
   "source": [
    "1. True positive rate,  $TPR = \\frac{TP}{P} = \\frac{TP}{TP+FN}$\n",
    "\n",
    " Частота истинно положительных. Другие названия: recall, sensitivity (чувствительность). Доля верно предсказанных котов среди всех котов датасета.\n",
    " \n",
    "2. True negative rate, $TNR = \\frac{TN}{N} = \\frac{TN}{FP+TN}$\n",
    "\n",
    " Частота истинно отрицательных. Другие названия: specificity (специфичность). Доля верно предсказанных не-котов среди всех не-котов датасета.\n",
    " \n",
    "3. Positive predictive value $PPV = \\frac{TP}{PP} = \\frac{TP}{TP+FP}$\n",
    "\n",
    " Положительное предсказательное значение. Другие названия: precision. Доля верно предсказанных котов среди всех предсказанных котов.\n",
    " \n",
    "4. False discovery rate $FDR = \\frac{FP}{PP} = \\frac{FP}{TP+FP}$\n",
    "\n",
    " Частота ошибочных обнаружений. Доля неверно предсказанных котов среди всех предсказанных котов.\n",
    " \n",
    "5. Accuracy, $Acc = \\frac{TP+TN}{PP+PN} = \\frac{TP+TN}{TP+FP+TN+FN}$\n",
    "\n",
    " Точность, доля верных предсказаний среди всех предсказаний.\n",
    " \n",
    "6. F1-score, $F_1 = 2 \\frac{TPR * PPV}{TPR + PPV}$\n",
    "\n",
    " Гармоническое среднее precision и recall"
   ]
  },
  {
   "cell_type": "code",
   "execution_count": 47,
   "id": "d527b8b2-990e-4356-814d-93f4a694c0f8",
   "metadata": {},
   "outputs": [
    {
     "name": "stdout",
     "output_type": "stream",
     "text": [
      "              precision    recall  f1-score   support\n",
      "\n",
      "    нет кота       0.94      0.92      0.93      9000\n",
      "         кот       0.43      0.51      0.46      1000\n",
      "\n",
      "    accuracy                           0.88     10000\n",
      "   macro avg       0.68      0.72      0.70     10000\n",
      "weighted avg       0.89      0.88      0.89     10000\n",
      "\n"
     ]
    }
   ],
   "source": [
    "#11\n",
    "from sklearn.metrics import classification_report\n",
    "print(classification_report(truth, preds01, target_names=[\"нет кота\", \"кот\"]))"
   ]
  },
  {
   "cell_type": "markdown",
   "id": "55f4104a-c80a-407e-be2c-6c79d30d1b1f",
   "metadata": {},
   "source": [
    "# Зависимость метрик от порогового значения"
   ]
  },
  {
   "cell_type": "code",
   "execution_count": 34,
   "id": "e5f3cbe1-2439-4108-a61b-908bbd1bfaf2",
   "metadata": {},
   "outputs": [
    {
     "name": "stdout",
     "output_type": "stream",
     "text": [
      "[1.0, 0.747, 0.587, 0.441, 0.326, 0.212, 0.119, 0.049, 0.003, 0.0]\n"
     ]
    },
    {
     "data": {
      "text/plain": [
       "[<matplotlib.lines.Line2D at 0x7f1430a21990>]"
      ]
     },
     "execution_count": 34,
     "metadata": {},
     "output_type": "execute_result"
    },
    {
     "data": {
      "image/png": "[encoded data removed]",
      "text/plain": [
       "<Figure size 432x288 with 1 Axes>"
      ]
     },
     "metadata": {
      "needs_background": "light"
     },
     "output_type": "display_data"
    }
   ],
   "source": [
    "#12\n",
    "import matplotlib.pyplot as plt\n",
    "\n",
    "def get_recall(preds, labels):\n",
    "    P = np.sum(labels)\n",
    "    TP = np.sum(preds*labels)\n",
    "    return TP/P\n",
    "\n",
    "\n",
    "levels = np.arange(0, 1, 0.1)\n",
    "recalls = []\n",
    "\n",
    "for level in levels:    \n",
    "    preds01 = map( lambda x: 1. if x>level else 0. , preds)\n",
    "    preds01 = np.array(list(preds01))\n",
    "    recalls.append(get_recall(preds01, truth))\n",
    "    \n",
    "print(recalls) \n",
    "plt.plot(levels, recalls)"
   ]
  },
  {
   "cell_type": "markdown",
   "id": "076aa48d-9d0a-4c8b-a416-3a1c85d00315",
   "metadata": {},
   "source": [
    "Упражнение: найдите зависимость precision от порога и изобразите зависимости precision и recall от порога на одном графике."
   ]
  },
  {
   "cell_type": "markdown",
   "id": "4400434d-abc7-45c0-8936-a8ef51a558b8",
   "metadata": {},
   "source": [
    "# Параметрические кривые для пар метрик, интегральные метрики"
   ]
  },
  {
   "cell_type": "markdown",
   "id": "2e77cf24-7227-4c69-b801-e9294b53b893",
   "metadata": {},
   "source": [
    "## 1. Precision-Recall"
   ]
  },
  {
   "cell_type": "markdown",
   "id": "41a29852-45c8-41c0-8a1a-b79856bbe383",
   "metadata": {},
   "source": [
    "https://scikit-learn.org/stable/modules/generated/sklearn.metrics.PrecisionRecallDisplay.html"
   ]
  },
  {
   "cell_type": "code",
   "execution_count": 36,
   "id": "d35b8507-a4d8-4589-baa5-c16a75d21fe9",
   "metadata": {},
   "outputs": [
    {
     "name": "stdout",
     "output_type": "stream",
     "text": [
      "0.4395609987773193\n"
     ]
    },
    {
     "data": {
      "text/plain": [
       "<sklearn.metrics._plot.precision_recall_curve.PrecisionRecallDisplay at 0x7f1431405900>"
      ]
     },
     "execution_count": 36,
     "metadata": {},
     "output_type": "execute_result"
    },
    {
     "data": {
      "image/png": "[encoded data removed]",
      "text/plain": [
       "<Figure size 432x288 with 1 Axes>"
      ]
     },
     "metadata": {
      "needs_background": "light"
     },
     "output_type": "display_data"
    }
   ],
   "source": [
    "#13\n",
    "import matplotlib.pyplot as plt\n",
    "from sklearn.metrics import PrecisionRecallDisplay, average_precision_score\n",
    "print(average_precision_score(truth, preds))\n",
    "PrecisionRecallDisplay.from_predictions(truth, preds)"
   ]
  },
  {
   "cell_type": "markdown",
   "id": "8ce94e67-4908-476d-a7a6-af1ed2c627ec",
   "metadata": {},
   "source": [
    "Average precision:\n",
    "\n",
    "$\\text{AP} = \\sum_n (R_n - R_{n-1}) P_n$"
   ]
  },
  {
   "cell_type": "markdown",
   "id": "38bbd909-a748-4966-a060-c1c40fc33505",
   "metadata": {},
   "source": [
    "Упрощенный вариант"
   ]
  },
  {
   "cell_type": "code",
   "execution_count": 48,
   "id": "739d8a8a-96ce-4b34-99dc-c8b2d4ef67f9",
   "metadata": {},
   "outputs": [
    {
     "name": "stdout",
     "output_type": "stream",
     "text": [
      "AP= 0.8333333333333333\n"
     ]
    },
    {
     "data": {
      "text/plain": [
       "<sklearn.metrics._plot.precision_recall_curve.PrecisionRecallDisplay at 0x7f11ee70c040>"
      ]
     },
     "execution_count": 48,
     "metadata": {},
     "output_type": "execute_result"
    },
    {
     "data": {
      "image/png": "[encoded data removed]",
      "text/plain": [
       "<Figure size 432x288 with 1 Axes>"
      ]
     },
     "metadata": {
      "needs_background": "light"
     },
     "output_type": "display_data"
    }
   ],
   "source": [
    "#14\n",
    "y_true = np.array([0, 0, 1, 1])\n",
    "y_scores = np.array([0.1, 0.4, 0.35, 0.8])\n",
    "print(\"AP=\",average_precision_score(y_true, y_scores))\n",
    "PrecisionRecallDisplay.from_predictions(y_true, y_scores)"
   ]
  },
  {
   "cell_type": "markdown",
   "id": "6fb69ec0-df14-441f-bb24-93c2192b540e",
   "metadata": {},
   "source": [
    "Начнем с очень требовательного уровня и закончим самым нетребовательным\n",
    "\n",
    "| Level             | Обнаружений | Верных   | Recall | Precision | \n",
    "| :---------------- | :------:    | :------: | ----:  | :------:  | \n",
    "| 1 - 0.8           | 0           | 0        |      0 | 1         |\n",
    "| 0.8 - 0.4         | 1           | 1        |    0.5 | 1         |\n",
    "| 0.4 - 0.35        | 2           | 1        |    0.5 | 0.5       |\n",
    "| 0.35 - 0.1        | 3           | 2        |      1 | 0.66      |\n",
    "| 0.1 - 0           | 4           | 2        |      1 | 0.5       |\n",
    "\n",
    "\n",
    "\n"
   ]
  },
  {
   "cell_type": "markdown",
   "id": "bb6d2d71-4289-4776-a88a-3ed5462f108b",
   "metadata": {},
   "source": [
    "## 2. ROC-кривая (Receiver operating characteristics)"
   ]
  },
  {
   "cell_type": "code",
   "execution_count": 40,
   "id": "b8093b8d-b490-4e7b-8110-1ff0c9c0f331",
   "metadata": {},
   "outputs": [
    {
     "data": {
      "image/png": "[encoded data removed]",
      "text/plain": [
       "<Figure size 432x288 with 1 Axes>"
      ]
     },
     "metadata": {
      "needs_background": "light"
     },
     "output_type": "display_data"
    }
   ],
   "source": [
    "#15\n",
    "from sklearn.metrics import RocCurveDisplay, roc_curve\n",
    "fpr, tpr, _ = roc_curve(truth, preds)\n",
    "roc_display = RocCurveDisplay(fpr=fpr, tpr=tpr).plot()"
   ]
  },
  {
   "cell_type": "markdown",
   "id": "ad0c9212-0ecc-4552-b3d2-8e9b2be296a9",
   "metadata": {},
   "source": [
    "Area Under Curve"
   ]
  },
  {
   "cell_type": "code",
   "execution_count": 42,
   "id": "eb38dadb-eb6d-481f-98ce-806fb52680c0",
   "metadata": {},
   "outputs": [
    {
     "data": {
      "text/plain": [
       "0.8682621111111113"
      ]
     },
     "execution_count": 42,
     "metadata": {},
     "output_type": "execute_result"
    }
   ],
   "source": [
    "#16\n",
    "from sklearn.metrics import roc_auc_score\n",
    "roc_auc_score(truth, preds)"
   ]
  },
  {
   "cell_type": "markdown",
   "id": "d1aa92ba-bc8e-4f77-a138-53959515292f",
   "metadata": {},
   "source": [
    "# Матрица ошибок многоисходного классификатора"
   ]
  },
  {
   "cell_type": "code",
   "execution_count": 49,
   "id": "0ef48dbf-8fc7-47a8-897f-28d337e56602",
   "metadata": {},
   "outputs": [
    {
     "name": "stdout",
     "output_type": "stream",
     "text": [
      "Files already downloaded and verified\n",
      "Files already downloaded and verified\n"
     ]
    }
   ],
   "source": [
    "#17\n",
    "import torch\n",
    "import torchvision\n",
    "import torchvision.transforms as transforms\n",
    "\n",
    "transform = transforms.Compose(\n",
    "    [transforms.ToTensor(),\n",
    "     transforms.Normalize((0.5, 0.5, 0.5), (0.5, 0.5, 0.5))]) # x -> (x-mean)/std, преобразует  [0,1] -> [-1,1]\n",
    "\n",
    "batch_size = 16\n",
    "\n",
    "trainset = torchvision.datasets.CIFAR10(root='./cifar10data', train=True,\n",
    "                                        download=True, transform=transform)\n",
    "trainloader = torch.utils.data.DataLoader(trainset, batch_size=batch_size,\n",
    "                                          shuffle=True, num_workers=2)\n",
    "\n",
    "testset = torchvision.datasets.CIFAR10(root='./cifar10data', train=False,\n",
    "                                       download=True, transform=transform)\n",
    "testloader = torch.utils.data.DataLoader(testset, batch_size=batch_size,\n",
    "                                         shuffle=False, num_workers=2)\n",
    "\n",
    "classes = ('plane', 'car', 'bird', 'cat',\n",
    "           'deer', 'dog', 'frog', 'horse', 'ship', 'truck')"
   ]
  },
  {
   "cell_type": "code",
   "execution_count": 50,
   "id": "3dbdbe62-db04-4883-9e1b-181a5412f12a",
   "metadata": {},
   "outputs": [],
   "source": [
    "#18\n",
    "import torch.nn as nn\n",
    "import torch.nn.functional as F\n",
    "import torch.optim as optim\n",
    "\n",
    "class Net(nn.Module):\n",
    "    def __init__(self, dbg=False):\n",
    "        super().__init__()\n",
    "        self.conv1 = nn.Conv2d(3, 6, 5)\n",
    "        self.pool = nn.MaxPool2d(2, 2)\n",
    "        self.conv2 = nn.Conv2d(6, 16, 5)\n",
    "        self.fc1 = nn.Linear(16 * 5 * 5, 120)\n",
    "        self.fc2 = nn.Linear(120, 84)\n",
    "        self.fc3 = nn.Linear(84, 10)\n",
    "        self.dbg = dbg\n",
    "\n",
    "    def forward(self, x):\n",
    "        if self.dbg:\n",
    "            insize = x.size()            \n",
    "        x = self.pool(F.relu(self.conv1(x)))\n",
    "        x = self.pool(F.relu(self.conv2(x)))\n",
    "        x = torch.flatten(x, 1) # flatten all dimensions except batch\n",
    "        x = F.relu(self.fc1(x))\n",
    "        x = F.relu(self.fc2(x))\n",
    "        x = self.fc3(x)        \n",
    "        if self.dbg:\n",
    "            outsize = x.size()\n",
    "            print(\"\\tIn Model: input size\", insize, \"output size\", outsize)\n",
    "        return x"
   ]
  },
  {
   "cell_type": "code",
   "execution_count": 52,
   "id": "d8d12953-35c4-480d-a05b-45a90ffbea71",
   "metadata": {},
   "outputs": [],
   "source": [
    "#19\n",
    "netGPU = Net()\n",
    "netGPU.to(device)\n",
    "\n",
    "criterion = nn.CrossEntropyLoss()\n",
    "optimizerGPU = optim.SGD(netGPU.parameters(), lr=0.001, momentum=0.9)"
   ]
  },
  {
   "cell_type": "code",
   "execution_count": 55,
   "id": "51fd7cbf-1edb-41cc-b225-dc552286d3d0",
   "metadata": {},
   "outputs": [
    {
     "name": "stderr",
     "output_type": "stream",
     "text": [
      "100%|██████████| 20/20 [07:05<00:00, 21.26s/it]"
     ]
    },
    {
     "name": "stdout",
     "output_type": "stream",
     "text": [
      "Finished Training in  425.30013942718506\n"
     ]
    },
    {
     "name": "stderr",
     "output_type": "stream",
     "text": [
      "\n"
     ]
    }
   ],
   "source": [
    "#20\n",
    "import time\n",
    "from tqdm import tqdm\n",
    "\n",
    "start = time.time()\n",
    "epochs = 20\n",
    "\n",
    "for epoch in tqdm(range(1, 1+epochs)):  # loop over the dataset multiple times\n",
    "    for i, data in enumerate(trainloader, 0):\n",
    "        # get the inputs; data is a list of [inputs, labels]\n",
    "        inputs, labels = data[0].to(device), data[1].to(device)\n",
    "\n",
    "        # zero the parameter gradients\n",
    "        optimizerGPU.zero_grad()\n",
    "\n",
    "        # forward + backward + optimize\n",
    "        outputs = netGPU(inputs)\n",
    "        loss = criterion(outputs, labels)\n",
    "        loss.backward()\n",
    "        optimizerGPU.step()\n",
    "\n",
    "finish = time.time()\n",
    "print('Finished Training in ', finish-start)\n",
    "\n",
    "torch.save(netGPU.state_dict(), './cifar_net.pth')"
   ]
  },
  {
   "cell_type": "code",
   "execution_count": 56,
   "id": "a7f53e0f-b532-48cc-8caa-117a2be979f6",
   "metadata": {},
   "outputs": [
    {
     "data": {
      "text/plain": [
       "<All keys matched successfully>"
      ]
     },
     "execution_count": 56,
     "metadata": {},
     "output_type": "execute_result"
    }
   ],
   "source": [
    "#21\n",
    "netGPU.load_state_dict(torch.load('./cifar_net.pth'))"
   ]
  },
  {
   "cell_type": "code",
   "execution_count": 57,
   "id": "ac744456-29b0-4472-9947-39e96062772e",
   "metadata": {},
   "outputs": [
    {
     "name": "stdout",
     "output_type": "stream",
     "text": [
      "[3. 8. 8. 0. 6. 6. 1. 6. 3. 1. 0. 9. 5. 7. 9. 8. 5. 7. 8. 6.]\n",
      "[3. 8. 1. 8. 3. 6. 9. 4. 5. 1. 0. 9. 5. 7. 9. 9. 5. 3. 8. 7.]\n"
     ]
    }
   ],
   "source": [
    "#22 соберем предсказания в массив\n",
    "import numpy as np\n",
    "\n",
    "truth = np.array([])\n",
    "preds = np.array([])\n",
    "\n",
    "# again no gradients needed\n",
    "with torch.no_grad():\n",
    "    for data in testloader:\n",
    "        images = data[0].to(device)\n",
    "        \n",
    "        outputs = netGPU(images)        \n",
    "        \n",
    "        _, predicted = torch.max(outputs.data, 1)\n",
    "        \n",
    "        truth = np.concatenate((truth, data[1].numpy().flatten()))\n",
    "        preds = np.concatenate((preds, predicted.to('cpu').numpy().flatten()))\n",
    "\n",
    "print(truth[:20])\n",
    "print(preds[:20]) "
   ]
  },
  {
   "cell_type": "code",
   "execution_count": 60,
   "id": "23521420-25eb-42f5-855f-e223c62cd2cc",
   "metadata": {},
   "outputs": [
    {
     "name": "stdout",
     "output_type": "stream",
     "text": [
      "              precision    recall  f1-score   support\n",
      "\n",
      "       plane       0.53      0.54      0.54      1000\n",
      "         car       0.67      0.54      0.60      1000\n",
      "        bird       0.39      0.22      0.28      1000\n",
      "         cat       0.29      0.27      0.28      1000\n",
      "        deer       0.41      0.32      0.36      1000\n",
      "         dog       0.38      0.50      0.43      1000\n",
      "        frog       0.54      0.42      0.48      1000\n",
      "       horse       0.44      0.62      0.52      1000\n",
      "        ship       0.55      0.59      0.57      1000\n",
      "       truck       0.47      0.64      0.54      1000\n",
      "\n",
      "    accuracy                           0.47     10000\n",
      "   macro avg       0.47      0.47      0.46     10000\n",
      "weighted avg       0.47      0.47      0.46     10000\n",
      "\n"
     ]
    },
    {
     "data": {
      "image/png": "[encoded data removed]",
      "text/plain": [
       "<Figure size 432x288 with 2 Axes>"
      ]
     },
     "metadata": {
      "needs_background": "light"
     },
     "output_type": "display_data"
    }
   ],
   "source": [
    "#23\n",
    "cm = confusion_matrix(truth, preds)\n",
    "cm_display = ConfusionMatrixDisplay(cm, display_labels=['plane', 'car', 'bird', 'cat', 'deer', 'dog', 'frog', 'horse', 'ship', 'truck']).plot()\n",
    "print(classification_report(truth, preds, target_names=['plane', 'car', 'bird', 'cat', 'deer', 'dog', 'frog', 'horse', 'ship', 'truck']))"
   ]
  },
  {
   "cell_type": "markdown",
   "id": "7a1831d2-d049-4bc1-875c-30b808379a9b",
   "metadata": {},
   "source": [
    "# mAP - mean average precision"
   ]
  },
  {
   "cell_type": "code",
   "execution_count": null,
   "id": "84f7a55c-eb5a-401b-9656-53405403ed2e",
   "metadata": {},
   "outputs": [],
   "source": [
    "#не работает в текущей версии (1.1.1), добавлено позднее (но смысл понятен)\n",
    "import numpy as np\n",
    "from sklearn.metrics import average_precision_score\n",
    "y_true = np.array([0, 0, 1, 1])\n",
    "y_scores = np.array([0.1, 0.4, 0.35, 0.8])\n",
    "average_precision_score(y_true, y_scores)\n",
    "y_true = np.array([0, 0, 1, 1, 2, 2])\n",
    "y_scores = np.array([\n",
    "    [0.7, 0.2, 0.1],\n",
    "    [0.4, 0.3, 0.3],\n",
    "    [0.1, 0.8, 0.1],\n",
    "    [0.2, 0.3, 0.5],\n",
    "    [0.4, 0.4, 0.2],\n",
    "    [0.1, 0.2, 0.7],\n",
    "])\n",
    "average_precision_score(y_true, y_scores)"
   ]
  },
  {
   "cell_type": "markdown",
   "id": "f509b4c1-11bc-4f41-8e10-57d9a620f62b",
   "metadata": {},
   "source": [
    "Упражнение: используйте функцию softmax и получите для каждой тестовой картинки вектор из вероятностей принадлежности к каждому классу"
   ]
  },
  {
   "cell_type": "markdown",
   "id": "bac5b22e-1bd5-4df4-a6c1-518faddbd559",
   "metadata": {},
   "source": [
    "Упражнение: по полученным векторам из вероятностей вычислите AP для каждого класса и найдите среднее (макро)."
   ]
  },
  {
   "cell_type": "code",
   "execution_count": null,
   "id": "af39448b-bc6a-45ec-8cb9-62de2ac6d6f5",
   "metadata": {},
   "outputs": [],
   "source": []
  }
 ],
 "metadata": {
  "kernelspec": {
   "display_name": "Python 3 (ipykernel)",
   "language": "python",
   "name": "python3"
  },
  "language_info": {
   "codemirror_mode": {
    "name": "ipython",
    "version": 3
   },
   "file_extension": ".py",
   "mimetype": "text/x-python",
   "name": "python",
   "nbconvert_exporter": "python",
   "pygments_lexer": "ipython3",
   "version": "3.10.5"
  }
 },
 "nbformat": 4,
 "nbformat_minor": 5
}
